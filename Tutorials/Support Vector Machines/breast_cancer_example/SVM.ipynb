{
 "cells": [
  {
   "cell_type": "code",
   "execution_count": 1,
   "metadata": {},
   "outputs": [],
   "source": [
    "from sklearn.datasets import load_breast_cancer\n",
    "from sklearn.model_selection import train_test_split\n",
    "from sklearn.svm import SVC\n",
    "from sklearn.neighbors import KNeighborsClassifier"
   ]
  },
  {
   "cell_type": "code",
   "execution_count": 2,
   "metadata": {},
   "outputs": [],
   "source": [
    "# Load the breast cancer dataset\n",
    "data = load_breast_cancer()\n",
    "x = data.data  # Feature data\n",
    "y = data.target  # Target data (labels: malignant or benign)"
   ]
  },
  {
   "cell_type": "code",
   "execution_count": 38,
   "metadata": {},
   "outputs": [
    {
     "name": "stdout",
     "output_type": "stream",
     "text": [
      "SVC: 0.9736842105263158\n",
      "KNN: 0.9473684210526315\n"
     ]
    }
   ],
   "source": [
    "# Split the data into training and testing sets\n",
    "# 80% of the data will be used for training, and 20% will be used for testing\n",
    "x_train, x_test, y_train, y_test = train_test_split(x, y , test_size=0.2)\n",
    "\n",
    "# Create an instance of the SVM classifier with a linear kernel and C=3\n",
    "clf = SVC(kernel=\"linear\", C=3)\n",
    "\n",
    "# Train the SVM classifier on the training data\n",
    "clf.fit(x_train, y_train)\n",
    "\n",
    "# Evaluate the SVM classifier on the testing data and print the accuracy\n",
    "print(f'SVC: {clf.score(x_test, y_test)}')\n",
    "\n",
    "\n",
    "clf2 = KNeighborsClassifier(n_neighbors=3)\n",
    "clf2.fit(x_train, y_train)\n",
    "\n",
    "# Evaluate the KNN classifier on the testing data and print the accuracy\n",
    "print(f'KNN: {clf2.score(x_test, y_test)}')\n"
   ]
  }
 ],
 "metadata": {
  "kernelspec": {
   "display_name": "Python 3",
   "language": "python",
   "name": "python3"
  },
  "language_info": {
   "codemirror_mode": {
    "name": "ipython",
    "version": 3
   },
   "file_extension": ".py",
   "mimetype": "text/x-python",
   "name": "python",
   "nbconvert_exporter": "python",
   "pygments_lexer": "ipython3",
   "version": "3.10.12"
  }
 },
 "nbformat": 4,
 "nbformat_minor": 2
}
