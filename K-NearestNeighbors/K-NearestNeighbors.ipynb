{
 "cells": [
  {
   "cell_type": "code",
   "execution_count": 31,
   "metadata": {},
   "outputs": [],
   "source": [
    "from sklearn.datasets import load_breast_cancer\n",
    "from sklearn.neighbors import KNeighborsClassifier\n",
    "from sklearn.model_selection import train_test_split\n",
    "\n",
    "import numpy as np\n"
   ]
  },
  {
   "cell_type": "code",
   "execution_count": 32,
   "metadata": {},
   "outputs": [
    {
     "name": "stdout",
     "output_type": "stream",
     "text": [
      "['mean radius' 'mean texture' 'mean perimeter' 'mean area'\n",
      " 'mean smoothness' 'mean compactness' 'mean concavity'\n",
      " 'mean concave points' 'mean symmetry' 'mean fractal dimension'\n",
      " 'radius error' 'texture error' 'perimeter error' 'area error'\n",
      " 'smoothness error' 'compactness error' 'concavity error'\n",
      " 'concave points error' 'symmetry error' 'fractal dimension error'\n",
      " 'worst radius' 'worst texture' 'worst perimeter' 'worst area'\n",
      " 'worst smoothness' 'worst compactness' 'worst concavity'\n",
      " 'worst concave points' 'worst symmetry' 'worst fractal dimension']\n",
      "['malignant' 'benign']\n"
     ]
    }
   ],
   "source": [
    "# Load the breast cancer dataset\n",
    "data = load_breast_cancer()\n",
    "\n",
    "# Print the feature names (attributes) of the dataset\n",
    "print(data.feature_names)\n",
    "\n",
    "# Print the target names (classes) of the dataset\n",
    "print(data.target_names)"
   ]
  },
  {
   "cell_type": "code",
   "execution_count": 33,
   "metadata": {},
   "outputs": [
    {
     "name": "stdout",
     "output_type": "stream",
     "text": [
      "0.9298245614035088\n"
     ]
    }
   ],
   "source": [
    "# Split the dataset into training and testing sets\n",
    "# `test_size=0.2` means 20% of the data will be used for testing, and 80% for training\n",
    "x_train, x_test, y_train, y_test = train_test_split(np.array(data.data), np.array(data.target), test_size=0.2)\n",
    "\n",
    "# Initialize the K-Nearest Neighbors classifier with 3 neighbors\n",
    "clf = KNeighborsClassifier(n_neighbors=3)\n",
    "\n",
    "# Train the classifier using the training data\n",
    "clf.fit(x_train, y_train)\n",
    "\n",
    "# Evaluate the classifier on the test data and print the accuracy\n",
    "print(clf.score(x_test, y_test))"
   ]
  },
  {
   "cell_type": "code",
   "execution_count": 66,
   "metadata": {},
   "outputs": [
    {
     "name": "stdout",
     "output_type": "stream",
     "text": [
      "Predicted class: malignant\n"
     ]
    }
   ],
   "source": [
    "# Example of a dummy data point \n",
    "new_data_point = np.array([14.0, 20.0, 90.0, 600.0, 0.1, 0.08, 0.05, 0.05, 0.18, 0.06,\n",
    "                           0.25, 1.0, 1.5, 50.0, 0.005, 0.02, 0.03, 0.01, 0.02, 0.004,\n",
    "                           16.0, 25.0, 110.0, 800.0, 0.15, 0.15, 0.1, 0.08, 0.25, 0.07])\n",
    "\n",
    "# Reshape the new data point to have the shape (1, -1) to match the expected input shape of the predict method\n",
    "new_data_point = new_data_point.reshape(1, -1)\n",
    "\n",
    "# Predict the class for the new data point\n",
    "prediction = clf.predict(new_data_point)\n",
    "print(\"Predicted class:\", data.target_names[prediction[0]])"
   ]
  }
 ],
 "metadata": {
  "kernelspec": {
   "display_name": "Python 3",
   "language": "python",
   "name": "python3"
  },
  "language_info": {
   "codemirror_mode": {
    "name": "ipython",
    "version": 3
   },
   "file_extension": ".py",
   "mimetype": "text/x-python",
   "name": "python",
   "nbconvert_exporter": "python",
   "pygments_lexer": "ipython3",
   "version": "3.10.12"
  }
 },
 "nbformat": 4,
 "nbformat_minor": 2
}
